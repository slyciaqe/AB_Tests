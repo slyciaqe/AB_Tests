{
 "cells": [
  {
   "cell_type": "code",
   "execution_count": 2,
   "metadata": {},
   "outputs": [
    {
     "data": {
      "text/plain": [
       "' Задачи для общего понимания покупок клиентов'"
      ]
     },
     "execution_count": 2,
     "metadata": {},
     "output_type": "execute_result"
    }
   ],
   "source": [
    "\"\"\" Задачи для общего понимания покупок клиентов\"\"\""
   ]
  },
  {
   "cell_type": "code",
   "execution_count": 3,
   "metadata": {},
   "outputs": [],
   "source": [
    "import pandas as pd\n",
    "import os"
   ]
  },
  {
   "cell_type": "code",
   "execution_count": 4,
   "metadata": {},
   "outputs": [],
   "source": [
    "def read_file(file_name):\n",
    "    if not os.path.exists(file_name):\n",
    "        raise FileNotFoundError(f'Файл {file_name} не найден')\n",
    "    else:\n",
    "        return pd.read_csv(file_name)"
   ]
  },
  {
   "cell_type": "markdown",
   "metadata": {},
   "source": [
    "Есть 2 файла с данными по поведению клиентов:\n",
    "\n",
    "df_sales - информация о покупках, одна строка - один заказ. Атрибуты:\n",
    "- sale_id - идентификатор покупки;\n",
    "- date - дата покупки;\n",
    "- count_pizza - количество пицц в заказе;\n",
    "- count_drink - количество напитков в заказе;\n",
    "- price - стоимость заказа;\n",
    "- user_id - идентификатор пользователя;\n",
    "\n",
    "df_web_logs - талица с логами посещения сайта. Атрибуты:\n",
    "- user_id - идентификатор пользователя;\n",
    "- page - какая страница сайта была открыта. Типы страниц:\n",
    "  - m - страница с меню;\n",
    "  - b - страница с корзиной и подтверждением заказа;\n",
    "  - p - страница с оплатой заказа;\n",
    "- date - дата открытия страницы;\n",
    "- load_time - время загрузки страницы в миллисекундах."
   ]
  },
  {
   "cell_type": "markdown",
   "metadata": {},
   "source": [
    "#### 1. Найти 3 самые продаваемые позиции"
   ]
  },
  {
   "cell_type": "code",
   "execution_count": 5,
   "metadata": {},
   "outputs": [
    {
     "data": {
      "text/html": [
       "<div>\n",
       "<style scoped>\n",
       "    .dataframe tbody tr th:only-of-type {\n",
       "        vertical-align: middle;\n",
       "    }\n",
       "\n",
       "    .dataframe tbody tr th {\n",
       "        vertical-align: top;\n",
       "    }\n",
       "\n",
       "    .dataframe thead th {\n",
       "        text-align: right;\n",
       "    }\n",
       "</style>\n",
       "<table border=\"1\" class=\"dataframe\">\n",
       "  <thead>\n",
       "    <tr style=\"text-align: right;\">\n",
       "      <th></th>\n",
       "      <th>sale_id</th>\n",
       "      <th>good</th>\n",
       "      <th>price</th>\n",
       "      <th>date</th>\n",
       "      <th>user_id</th>\n",
       "    </tr>\n",
       "  </thead>\n",
       "  <tbody>\n",
       "    <tr>\n",
       "      <th>0</th>\n",
       "      <td>1000001</td>\n",
       "      <td>mexican pizza</td>\n",
       "      <td>720</td>\n",
       "      <td>2022-02-04 10:00:24</td>\n",
       "      <td>1c1543</td>\n",
       "    </tr>\n",
       "    <tr>\n",
       "      <th>1</th>\n",
       "      <td>1000002</td>\n",
       "      <td>chefs pizza</td>\n",
       "      <td>840</td>\n",
       "      <td>2022-02-04 10:02:28</td>\n",
       "      <td>a9a6e8</td>\n",
       "    </tr>\n",
       "    <tr>\n",
       "      <th>2</th>\n",
       "      <td>1000002</td>\n",
       "      <td>orange juice</td>\n",
       "      <td>90</td>\n",
       "      <td>2022-02-04 10:02:28</td>\n",
       "      <td>a9a6e8</td>\n",
       "    </tr>\n",
       "    <tr>\n",
       "      <th>3</th>\n",
       "      <td>1000003</td>\n",
       "      <td>cheese pizza</td>\n",
       "      <td>600</td>\n",
       "      <td>2022-02-04 10:02:35</td>\n",
       "      <td>23420a</td>\n",
       "    </tr>\n",
       "    <tr>\n",
       "      <th>4</th>\n",
       "      <td>1000003</td>\n",
       "      <td>italian pizza</td>\n",
       "      <td>720</td>\n",
       "      <td>2022-02-04 10:02:35</td>\n",
       "      <td>23420a</td>\n",
       "    </tr>\n",
       "  </tbody>\n",
       "</table>\n",
       "</div>"
      ],
      "text/plain": [
       "   sale_id           good  price                 date user_id\n",
       "0  1000001  mexican pizza    720  2022-02-04 10:00:24  1c1543\n",
       "1  1000002    chefs pizza    840  2022-02-04 10:02:28  a9a6e8\n",
       "2  1000002   orange juice     90  2022-02-04 10:02:28  a9a6e8\n",
       "3  1000003   cheese pizza    600  2022-02-04 10:02:35  23420a\n",
       "4  1000003  italian pizza    720  2022-02-04 10:02:35  23420a"
      ]
     },
     "execution_count": 5,
     "metadata": {},
     "output_type": "execute_result"
    }
   ],
   "source": [
    "df = read_file(\"sales_detail.csv\")\n",
    "df.head()"
   ]
  },
  {
   "cell_type": "code",
   "execution_count": 6,
   "metadata": {},
   "outputs": [
    {
     "name": "stdout",
     "output_type": "stream",
     "text": [
      "Топ 3 самых продаваемых товара -  ['chefs pizza', 'double pepperoni pizza', 'chicken bbq pizza']\n"
     ]
    }
   ],
   "source": [
    "top_3_products = df.groupby('good')['price'].agg('sum').sort_values(ascending=False)[:3].index.to_list()\n",
    "\n",
    "print('Топ 3 самых продаваемых товара - ', top_3_products)"
   ]
  },
  {
   "cell_type": "markdown",
   "metadata": {},
   "source": [
    "#### 2. Время от захода на сайт до покупки. \n",
    "Для каждой покупки нужно посчитать время, которое проходит от покупки до первого захода на сайт того же пользователя в течение двух часов перед покупкой. И от полученных значений времени посчитать среднее."
   ]
  },
  {
   "cell_type": "code",
   "execution_count": 7,
   "metadata": {},
   "outputs": [],
   "source": [
    "df_sales = read_file('sales.csv')\n",
    "df_logs = read_file('web_logs.csv')"
   ]
  },
  {
   "cell_type": "code",
   "execution_count": 8,
   "metadata": {},
   "outputs": [],
   "source": [
    "#Объединяем таблицы с покупками и логами по пользователям,\n",
    "#оставляем только user_id и даты\n",
    "merged_df = pd.merge(df_sales[['user_id', 'date']].rename(columns=            {'date':'date_sale'}), df_logs[['user_id', 'date']].rename(columns={'date':'date_log'}), on='user_id', how='inner')"
   ]
  },
  {
   "cell_type": "code",
   "execution_count": 9,
   "metadata": {},
   "outputs": [],
   "source": [
    "#Преобразуем столбцы в datetime \n",
    "merged_df['date_log'] = pd.to_datetime(merged_df['date_log'])\n",
    "merged_df['date_sale'] = pd.to_datetime(merged_df['date_sale'])\n",
    "\n",
    "#Удаляем строки, в которых заход на сайт ранее 2 часов до покупки или после покупки\n",
    "merged_df_filtered = merged_df[(merged_df['date_log'] >= merged_df['date_sale'] - pd.Timedelta(hours=2)) & (merged_df['date_log'] <= merged_df['date_sale'])].copy()"
   ]
  },
  {
   "cell_type": "code",
   "execution_count": 10,
   "metadata": {},
   "outputs": [
    {
     "data": {
      "text/html": [
       "<div>\n",
       "<style scoped>\n",
       "    .dataframe tbody tr th:only-of-type {\n",
       "        vertical-align: middle;\n",
       "    }\n",
       "\n",
       "    .dataframe tbody tr th {\n",
       "        vertical-align: top;\n",
       "    }\n",
       "\n",
       "    .dataframe thead th {\n",
       "        text-align: right;\n",
       "    }\n",
       "</style>\n",
       "<table border=\"1\" class=\"dataframe\">\n",
       "  <thead>\n",
       "    <tr style=\"text-align: right;\">\n",
       "      <th></th>\n",
       "      <th>user_id</th>\n",
       "      <th>date_sale</th>\n",
       "      <th>date_log</th>\n",
       "    </tr>\n",
       "  </thead>\n",
       "  <tbody>\n",
       "    <tr>\n",
       "      <th>0</th>\n",
       "      <td>1c1543</td>\n",
       "      <td>2022-02-04 10:00:24</td>\n",
       "      <td>2022-02-04 09:50:02</td>\n",
       "    </tr>\n",
       "    <tr>\n",
       "      <th>1</th>\n",
       "      <td>1c1543</td>\n",
       "      <td>2022-02-04 10:00:24</td>\n",
       "      <td>2022-02-04 09:51:16</td>\n",
       "    </tr>\n",
       "    <tr>\n",
       "      <th>2</th>\n",
       "      <td>1c1543</td>\n",
       "      <td>2022-02-04 10:00:24</td>\n",
       "      <td>2022-02-04 09:52:58</td>\n",
       "    </tr>\n",
       "    <tr>\n",
       "      <th>3</th>\n",
       "      <td>1c1543</td>\n",
       "      <td>2022-02-04 10:00:24</td>\n",
       "      <td>2022-02-04 09:57:04</td>\n",
       "    </tr>\n",
       "    <tr>\n",
       "      <th>4</th>\n",
       "      <td>1c1543</td>\n",
       "      <td>2022-02-04 10:00:24</td>\n",
       "      <td>2022-02-04 09:57:28</td>\n",
       "    </tr>\n",
       "  </tbody>\n",
       "</table>\n",
       "</div>"
      ],
      "text/plain": [
       "  user_id           date_sale            date_log\n",
       "0  1c1543 2022-02-04 10:00:24 2022-02-04 09:50:02\n",
       "1  1c1543 2022-02-04 10:00:24 2022-02-04 09:51:16\n",
       "2  1c1543 2022-02-04 10:00:24 2022-02-04 09:52:58\n",
       "3  1c1543 2022-02-04 10:00:24 2022-02-04 09:57:04\n",
       "4  1c1543 2022-02-04 10:00:24 2022-02-04 09:57:28"
      ]
     },
     "execution_count": 10,
     "metadata": {},
     "output_type": "execute_result"
    }
   ],
   "source": [
    "merged_df_filtered.head()"
   ]
  },
  {
   "cell_type": "code",
   "execution_count": 11,
   "metadata": {},
   "outputs": [
    {
     "name": "stdout",
     "output_type": "stream",
     "text": [
      "Среднее время от первого захода на сайт до покупки:  17\n"
     ]
    }
   ],
   "source": [
    "#Находим время первого захода на сайт\n",
    "first_action = merged_df_filtered.groupby(['user_id', 'date_sale'])['date_log'].agg('min').reset_index()\n",
    "#Считаем время в секундах между временем первого захода на сайт и заказом\n",
    "first_action['diff'] = (first_action['date_sale'] - first_action['date_log']).dt.total_seconds()\n",
    "\n",
    "# считаем среднее время и переводим в минуты\n",
    "avg_time = round(first_action['diff'].mean()/60)\n",
    "\n",
    "print(\"Среднее время от первого захода на сайт до покупки: \", avg_time)"
   ]
  },
  {
   "cell_type": "markdown",
   "metadata": {},
   "source": [
    "#### 3. Подсчитать как много пользователей возвращается из месяца в месяц и ответить на вопрос какая доля пользователей, совершивших покупку в феврале, совершила покупку и в марте?"
   ]
  },
  {
   "cell_type": "code",
   "execution_count": 12,
   "metadata": {},
   "outputs": [
    {
     "data": {
      "text/html": [
       "<div>\n",
       "<style scoped>\n",
       "    .dataframe tbody tr th:only-of-type {\n",
       "        vertical-align: middle;\n",
       "    }\n",
       "\n",
       "    .dataframe tbody tr th {\n",
       "        vertical-align: top;\n",
       "    }\n",
       "\n",
       "    .dataframe thead th {\n",
       "        text-align: right;\n",
       "    }\n",
       "</style>\n",
       "<table border=\"1\" class=\"dataframe\">\n",
       "  <thead>\n",
       "    <tr style=\"text-align: right;\">\n",
       "      <th></th>\n",
       "      <th>sale_id</th>\n",
       "      <th>good</th>\n",
       "      <th>price</th>\n",
       "      <th>date</th>\n",
       "      <th>user_id</th>\n",
       "    </tr>\n",
       "  </thead>\n",
       "  <tbody>\n",
       "    <tr>\n",
       "      <th>0</th>\n",
       "      <td>1000001</td>\n",
       "      <td>mexican pizza</td>\n",
       "      <td>720</td>\n",
       "      <td>2022-02-04 10:00:24</td>\n",
       "      <td>1c1543</td>\n",
       "    </tr>\n",
       "    <tr>\n",
       "      <th>1</th>\n",
       "      <td>1000002</td>\n",
       "      <td>chefs pizza</td>\n",
       "      <td>840</td>\n",
       "      <td>2022-02-04 10:02:28</td>\n",
       "      <td>a9a6e8</td>\n",
       "    </tr>\n",
       "    <tr>\n",
       "      <th>2</th>\n",
       "      <td>1000002</td>\n",
       "      <td>orange juice</td>\n",
       "      <td>90</td>\n",
       "      <td>2022-02-04 10:02:28</td>\n",
       "      <td>a9a6e8</td>\n",
       "    </tr>\n",
       "    <tr>\n",
       "      <th>3</th>\n",
       "      <td>1000003</td>\n",
       "      <td>cheese pizza</td>\n",
       "      <td>600</td>\n",
       "      <td>2022-02-04 10:02:35</td>\n",
       "      <td>23420a</td>\n",
       "    </tr>\n",
       "    <tr>\n",
       "      <th>4</th>\n",
       "      <td>1000003</td>\n",
       "      <td>italian pizza</td>\n",
       "      <td>720</td>\n",
       "      <td>2022-02-04 10:02:35</td>\n",
       "      <td>23420a</td>\n",
       "    </tr>\n",
       "  </tbody>\n",
       "</table>\n",
       "</div>"
      ],
      "text/plain": [
       "   sale_id           good  price                 date user_id\n",
       "0  1000001  mexican pizza    720  2022-02-04 10:00:24  1c1543\n",
       "1  1000002    chefs pizza    840  2022-02-04 10:02:28  a9a6e8\n",
       "2  1000002   orange juice     90  2022-02-04 10:02:28  a9a6e8\n",
       "3  1000003   cheese pizza    600  2022-02-04 10:02:35  23420a\n",
       "4  1000003  italian pizza    720  2022-02-04 10:02:35  23420a"
      ]
     },
     "execution_count": 12,
     "metadata": {},
     "output_type": "execute_result"
    }
   ],
   "source": [
    "df = read_file(\"sales_detail.csv\")\n",
    "df.head()"
   ]
  },
  {
   "cell_type": "code",
   "execution_count": 13,
   "metadata": {},
   "outputs": [
    {
     "name": "stdout",
     "output_type": "stream",
     "text": [
      "Доля пользователей, совершивших покупку в феврале, совершила покупку и в марте:  0.66\n"
     ]
    }
   ],
   "source": [
    "#создаем столбец месяцем\n",
    "df['month'] = pd.to_datetime(df['date']).dt.month\n",
    "\n",
    "#выделяем уникальных пользователей в феврале и марте\n",
    "feb_users = set(df[df['month'] == 2]['user_id'])\n",
    "march_users = set(df[df['month'] == 3]['user_id'])\n",
    "\n",
    "#пользователи с покупкой в феврале и марте \n",
    "common_users = feb_users & march_users\n",
    "\n",
    "answer = round(len(common_users)/len(feb_users),2)\n",
    "\n",
    "print('Доля пользователей, совершивших покупку в феврале, совершила покупку и в марте: ', answer)"
   ]
  },
  {
   "cell_type": "markdown",
   "metadata": {},
   "source": [
    "#### 4. Как часто пользователь заходит на сайт и ничего не покупает в этот день?"
   ]
  },
  {
   "cell_type": "code",
   "execution_count": 14,
   "metadata": {},
   "outputs": [
    {
     "data": {
      "text/html": [
       "<div>\n",
       "<style scoped>\n",
       "    .dataframe tbody tr th:only-of-type {\n",
       "        vertical-align: middle;\n",
       "    }\n",
       "\n",
       "    .dataframe tbody tr th {\n",
       "        vertical-align: top;\n",
       "    }\n",
       "\n",
       "    .dataframe thead th {\n",
       "        text-align: right;\n",
       "    }\n",
       "</style>\n",
       "<table border=\"1\" class=\"dataframe\">\n",
       "  <thead>\n",
       "    <tr style=\"text-align: right;\">\n",
       "      <th></th>\n",
       "      <th>user_id</th>\n",
       "      <th>page</th>\n",
       "      <th>date</th>\n",
       "      <th>load_time</th>\n",
       "    </tr>\n",
       "  </thead>\n",
       "  <tbody>\n",
       "    <tr>\n",
       "      <th>0</th>\n",
       "      <td>f25239</td>\n",
       "      <td>m</td>\n",
       "      <td>2022-02-03 23:45:37</td>\n",
       "      <td>80.8</td>\n",
       "    </tr>\n",
       "    <tr>\n",
       "      <th>1</th>\n",
       "      <td>06d6df</td>\n",
       "      <td>m</td>\n",
       "      <td>2022-02-03 23:49:56</td>\n",
       "      <td>70.5</td>\n",
       "    </tr>\n",
       "    <tr>\n",
       "      <th>2</th>\n",
       "      <td>06d6df</td>\n",
       "      <td>m</td>\n",
       "      <td>2022-02-03 23:51:16</td>\n",
       "      <td>89.7</td>\n",
       "    </tr>\n",
       "    <tr>\n",
       "      <th>3</th>\n",
       "      <td>f25239</td>\n",
       "      <td>m</td>\n",
       "      <td>2022-02-03 23:51:43</td>\n",
       "      <td>74.4</td>\n",
       "    </tr>\n",
       "    <tr>\n",
       "      <th>4</th>\n",
       "      <td>697870</td>\n",
       "      <td>m</td>\n",
       "      <td>2022-02-03 23:53:12</td>\n",
       "      <td>66.8</td>\n",
       "    </tr>\n",
       "  </tbody>\n",
       "</table>\n",
       "</div>"
      ],
      "text/plain": [
       "  user_id page                 date  load_time\n",
       "0  f25239    m  2022-02-03 23:45:37       80.8\n",
       "1  06d6df    m  2022-02-03 23:49:56       70.5\n",
       "2  06d6df    m  2022-02-03 23:51:16       89.7\n",
       "3  f25239    m  2022-02-03 23:51:43       74.4\n",
       "4  697870    m  2022-02-03 23:53:12       66.8"
      ]
     },
     "execution_count": 14,
     "metadata": {},
     "output_type": "execute_result"
    }
   ],
   "source": [
    "df_logs.head()"
   ]
  },
  {
   "cell_type": "code",
   "execution_count": 15,
   "metadata": {},
   "outputs": [],
   "source": [
    "# добавляем столбец с датой без времени\n",
    "df_logs['day'] = pd.to_datetime(df_logs['date']).dt.date\n",
    "df_sales['day'] = pd.to_datetime(df_sales['date']).dt.date"
   ]
  },
  {
   "cell_type": "code",
   "execution_count": 16,
   "metadata": {},
   "outputs": [],
   "source": [
    "# делаем таблицы с уникальными парами человек-дата\n",
    "user_day_web = df_logs[['user_id', 'day', 'page']].groupby(['user_id', 'day'])[['page']].count()\n",
    "user_day_sale = df_sales[['user_id', 'day', 'price']].groupby(['user_id', 'day'])[['price']].sum()"
   ]
  },
  {
   "cell_type": "code",
   "execution_count": 17,
   "metadata": {},
   "outputs": [
    {
     "data": {
      "text/plain": [
       "(303127, 203155)"
      ]
     },
     "execution_count": 17,
     "metadata": {},
     "output_type": "execute_result"
    }
   ],
   "source": [
    "len(user_day_web), len(user_day_sale)"
   ]
  },
  {
   "cell_type": "code",
   "execution_count": 18,
   "metadata": {},
   "outputs": [
    {
     "data": {
      "text/html": [
       "<div>\n",
       "<style scoped>\n",
       "    .dataframe tbody tr th:only-of-type {\n",
       "        vertical-align: middle;\n",
       "    }\n",
       "\n",
       "    .dataframe tbody tr th {\n",
       "        vertical-align: top;\n",
       "    }\n",
       "\n",
       "    .dataframe thead th {\n",
       "        text-align: right;\n",
       "    }\n",
       "</style>\n",
       "<table border=\"1\" class=\"dataframe\">\n",
       "  <thead>\n",
       "    <tr style=\"text-align: right;\">\n",
       "      <th></th>\n",
       "      <th></th>\n",
       "      <th>page</th>\n",
       "    </tr>\n",
       "    <tr>\n",
       "      <th>user_id</th>\n",
       "      <th>day</th>\n",
       "      <th></th>\n",
       "    </tr>\n",
       "  </thead>\n",
       "  <tbody>\n",
       "    <tr>\n",
       "      <th rowspan=\"2\" valign=\"top\">000096</th>\n",
       "      <th>2022-03-04</th>\n",
       "      <td>8</td>\n",
       "    </tr>\n",
       "    <tr>\n",
       "      <th>2022-03-22</th>\n",
       "      <td>7</td>\n",
       "    </tr>\n",
       "    <tr>\n",
       "      <th rowspan=\"2\" valign=\"top\">0000d4</th>\n",
       "      <th>2022-02-28</th>\n",
       "      <td>9</td>\n",
       "    </tr>\n",
       "    <tr>\n",
       "      <th>2022-03-27</th>\n",
       "      <td>10</td>\n",
       "    </tr>\n",
       "    <tr>\n",
       "      <th>0000de</th>\n",
       "      <th>2022-02-11</th>\n",
       "      <td>6</td>\n",
       "    </tr>\n",
       "  </tbody>\n",
       "</table>\n",
       "</div>"
      ],
      "text/plain": [
       "                    page\n",
       "user_id day             \n",
       "000096  2022-03-04     8\n",
       "        2022-03-22     7\n",
       "0000d4  2022-02-28     9\n",
       "        2022-03-27    10\n",
       "0000de  2022-02-11     6"
      ]
     },
     "execution_count": 18,
     "metadata": {},
     "output_type": "execute_result"
    }
   ],
   "source": [
    "user_day_web.head()"
   ]
  },
  {
   "cell_type": "code",
   "execution_count": 19,
   "metadata": {},
   "outputs": [
    {
     "data": {
      "text/html": [
       "<div>\n",
       "<style scoped>\n",
       "    .dataframe tbody tr th:only-of-type {\n",
       "        vertical-align: middle;\n",
       "    }\n",
       "\n",
       "    .dataframe tbody tr th {\n",
       "        vertical-align: top;\n",
       "    }\n",
       "\n",
       "    .dataframe thead th {\n",
       "        text-align: right;\n",
       "    }\n",
       "</style>\n",
       "<table border=\"1\" class=\"dataframe\">\n",
       "  <thead>\n",
       "    <tr style=\"text-align: right;\">\n",
       "      <th></th>\n",
       "      <th></th>\n",
       "      <th>price</th>\n",
       "    </tr>\n",
       "    <tr>\n",
       "      <th>user_id</th>\n",
       "      <th>day</th>\n",
       "      <th></th>\n",
       "    </tr>\n",
       "  </thead>\n",
       "  <tbody>\n",
       "    <tr>\n",
       "      <th rowspan=\"2\" valign=\"top\">000096</th>\n",
       "      <th>2022-03-04</th>\n",
       "      <td>720</td>\n",
       "    </tr>\n",
       "    <tr>\n",
       "      <th>2022-03-22</th>\n",
       "      <td>720</td>\n",
       "    </tr>\n",
       "    <tr>\n",
       "      <th rowspan=\"2\" valign=\"top\">0000d4</th>\n",
       "      <th>2022-02-28</th>\n",
       "      <td>720</td>\n",
       "    </tr>\n",
       "    <tr>\n",
       "      <th>2022-03-27</th>\n",
       "      <td>720</td>\n",
       "    </tr>\n",
       "    <tr>\n",
       "      <th>0000de</th>\n",
       "      <th>2022-02-11</th>\n",
       "      <td>660</td>\n",
       "    </tr>\n",
       "  </tbody>\n",
       "</table>\n",
       "</div>"
      ],
      "text/plain": [
       "                    price\n",
       "user_id day              \n",
       "000096  2022-03-04    720\n",
       "        2022-03-22    720\n",
       "0000d4  2022-02-28    720\n",
       "        2022-03-27    720\n",
       "0000de  2022-02-11    660"
      ]
     },
     "execution_count": 19,
     "metadata": {},
     "output_type": "execute_result"
    }
   ],
   "source": [
    "user_day_sale.head()"
   ]
  },
  {
   "cell_type": "code",
   "execution_count": 20,
   "metadata": {},
   "outputs": [],
   "source": [
    "# соединяем таблицы\n",
    "df_join = pd.merge(\n",
    "    user_day_web,\n",
    "    user_day_sale,\n",
    "    left_index=True,\n",
    "    right_index=True,\n",
    "    how='outer'\n",
    ")"
   ]
  },
  {
   "cell_type": "code",
   "execution_count": 21,
   "metadata": {},
   "outputs": [
    {
     "data": {
      "text/plain": [
       "page     0.000000\n",
       "price    0.329802\n",
       "dtype: float64"
      ]
     },
     "execution_count": 21,
     "metadata": {},
     "output_type": "execute_result"
    }
   ],
   "source": [
    "# считаем доли нулей в столбцах\n",
    "df_join.isnull().mean()"
   ]
  },
  {
   "cell_type": "markdown",
   "metadata": {},
   "source": [
    "**Вывод:** \n",
    "- Если делал покупку, то заходил на сайт в этот день;\n",
    "- Если заходил на сайт, то не обязательно покупал;\n",
    "- Доля человеко-дней без покупок 33%."
   ]
  }
 ],
 "metadata": {
  "kernelspec": {
   "display_name": "base",
   "language": "python",
   "name": "python3"
  },
  "language_info": {
   "codemirror_mode": {
    "name": "ipython",
    "version": 3
   },
   "file_extension": ".py",
   "mimetype": "text/x-python",
   "name": "python",
   "nbconvert_exporter": "python",
   "pygments_lexer": "ipython3",
   "version": "3.12.7"
  }
 },
 "nbformat": 4,
 "nbformat_minor": 2
}
