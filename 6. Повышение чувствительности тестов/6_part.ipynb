{
 "cells": [
  {
   "cell_type": "code",
   "execution_count": null,
   "metadata": {},
   "outputs": [],
   "source": [
    "\"\"\" Задачи \"\"\""
   ]
  },
  {
   "cell_type": "markdown",
   "metadata": {},
   "source": [
    "Необходимо сравнить мощности тестов с разной долей удаляемых данных. Используйте данные о времени работы бэкенда df_web_logs.csv в период с 2022-03-01 по 2022-03-08. \n",
    "\n",
    "Уровень значимости — 0.05. \n",
    "\n",
    "Размеры групп — 1000 человек (размер выборок будет больше, так как на одного человека приходится много значений). \n",
    "\n",
    "Проверяем гипотезу о равенстве средних с помощью теста Стьюдента. Ожидаемый эффект — увеличение времени обработки на 1%. Эффект в синтетических А/В-тестах добавляем умножением на константу."
   ]
  },
  {
   "cell_type": "code",
   "execution_count": 1,
   "metadata": {},
   "outputs": [],
   "source": [
    "import os\n",
    "from datetime import datetime\n",
    "import numpy as np\n",
    "import pandas as pd\n",
    "from scipy import stats\n",
    "from tqdm.notebook import tqdm"
   ]
  },
  {
   "cell_type": "code",
   "execution_count": 2,
   "metadata": {},
   "outputs": [],
   "source": [
    "def read_file(file_name):\n",
    "    if not os.path.exists(file_name):\n",
    "        raise FileNotFoundError(f'Файл {file_name} не найден')\n",
    "    return pd.read_csv(file_name)"
   ]
  },
  {
   "cell_type": "code",
   "execution_count": 3,
   "metadata": {},
   "outputs": [],
   "source": [
    "df_logs = read_file('df_web_logs.csv')\n",
    "\n",
    "df_logs['date'] = pd.to_datetime(df_logs['date'])\n",
    "date_start = datetime(2022, 3, 1)\n",
    "date_end = datetime(2022, 3, 8)"
   ]
  },
  {
   "cell_type": "code",
   "execution_count": 4,
   "metadata": {},
   "outputs": [],
   "source": [
    "df_metrics = df_logs[(df_logs['date'] >= date_start) & (df_logs['date'] < date_end)][['user_id', 'load_time']].reset_index(drop=True)"
   ]
  },
  {
   "cell_type": "code",
   "execution_count": 5,
   "metadata": {},
   "outputs": [
    {
     "data": {
      "text/html": [
       "<div>\n",
       "<style scoped>\n",
       "    .dataframe tbody tr th:only-of-type {\n",
       "        vertical-align: middle;\n",
       "    }\n",
       "\n",
       "    .dataframe tbody tr th {\n",
       "        vertical-align: top;\n",
       "    }\n",
       "\n",
       "    .dataframe thead th {\n",
       "        text-align: right;\n",
       "    }\n",
       "</style>\n",
       "<table border=\"1\" class=\"dataframe\">\n",
       "  <thead>\n",
       "    <tr style=\"text-align: right;\">\n",
       "      <th></th>\n",
       "      <th>user_id</th>\n",
       "      <th>load_time</th>\n",
       "    </tr>\n",
       "  </thead>\n",
       "  <tbody>\n",
       "    <tr>\n",
       "      <th>0</th>\n",
       "      <td>434cf2</td>\n",
       "      <td>69.8</td>\n",
       "    </tr>\n",
       "    <tr>\n",
       "      <th>1</th>\n",
       "      <td>80fa93</td>\n",
       "      <td>86.3</td>\n",
       "    </tr>\n",
       "    <tr>\n",
       "      <th>2</th>\n",
       "      <td>434cf2</td>\n",
       "      <td>58.0</td>\n",
       "    </tr>\n",
       "    <tr>\n",
       "      <th>3</th>\n",
       "      <td>a0aaab</td>\n",
       "      <td>85.2</td>\n",
       "    </tr>\n",
       "    <tr>\n",
       "      <th>4</th>\n",
       "      <td>a22f92</td>\n",
       "      <td>92.5</td>\n",
       "    </tr>\n",
       "  </tbody>\n",
       "</table>\n",
       "</div>"
      ],
      "text/plain": [
       "  user_id  load_time\n",
       "0  434cf2       69.8\n",
       "1  80fa93       86.3\n",
       "2  434cf2       58.0\n",
       "3  a0aaab       85.2\n",
       "4  a22f92       92.5"
      ]
     },
     "execution_count": 5,
     "metadata": {},
     "output_type": "execute_result"
    }
   ],
   "source": [
    "df_metrics.head()"
   ]
  },
  {
   "cell_type": "code",
   "execution_count": 6,
   "metadata": {},
   "outputs": [],
   "source": [
    "df_users = df_metrics['user_id'].unique()"
   ]
  },
  {
   "cell_type": "code",
   "execution_count": 7,
   "metadata": {},
   "outputs": [],
   "source": [
    "sample_size = 1000\n",
    "effect = 0.01\n",
    "alpha = 0.05\n",
    "quantiles = (0.0001, 0.001, 0.01, 0.05, 0.1,)\n",
    "quantile2errors = {q: [] for q in quantiles}"
   ]
  },
  {
   "cell_type": "code",
   "execution_count": 9,
   "metadata": {},
   "outputs": [],
   "source": [
    "for _ in range(1000):\n",
    "    a_users, b_users = np.random.choice(df_users, (2, sample_size,), False)\n",
    "    a_values = df_metrics.loc[df_metrics['user_id'].isin(a_users), 'load_time'].values\n",
    "    b_values = (\n",
    "        df_metrics.loc[df_metrics['user_id'].isin(b_users), 'load_time'].values\n",
    "        * (1 + effect)\n",
    "    )\n",
    "    for q in quantiles:\n",
    "        a_values_filtered = a_values[\n",
    "            (a_values > np.quantile(a_values, q))\n",
    "            & (a_values < np.quantile(a_values, 1-q))\n",
    "        ]\n",
    "        b_values_filtered = b_values[\n",
    "            (b_values > np.quantile(b_values, q))\n",
    "            & (b_values < np.quantile(b_values, 1-q))\n",
    "        ]\n",
    "        pvalue = stats.ttest_ind(a_values_filtered, b_values_filtered).pvalue\n",
    "        quantile2errors[q].append(pvalue > alpha)\n",
    "        "
   ]
  },
  {
   "cell_type": "code",
   "execution_count": 12,
   "metadata": {},
   "outputs": [
    {
     "name": "stdout",
     "output_type": "stream",
     "text": [
      "idx=5 quantile=0.1, power=0.970\n",
      "idx=4 quantile=0.05, power=0.963, pvalue=0.3443, оценка мощности не отличается значимо от предыдущей\n",
      "idx=3 quantile=0.01, power=0.933, pvalue=0.0016, оценка мощности значимо отличается от предыдущей\n",
      "idx=2 quantile=0.001, power=0.340, pvalue=0.0000, оценка мощности значимо отличается от предыдущей\n",
      "idx=1 quantile=0.0001, power=0.089, pvalue=0.0000, оценка мощности значимо отличается от предыдущей\n",
      "answer: 54321\n"
     ]
    }
   ],
   "source": [
    "def process_results(quantile2errors):\n",
    "    \"\"\"Обрабатываем данные и выводим результат.\"\"\"\n",
    "    # список из элементов: номер варианта, квантиль, доля ошибок, список ошибок).\n",
    "    data = [\n",
    "        (idx+1, quantile, np.mean(errors), errors,)\n",
    "        for idx, (quantile, errors) in enumerate(quantile2errors.items())\n",
    "    ]\n",
    "    # сортируем по доле ошибок\n",
    "    data.sort(key=lambda x: x[2])\n",
    "\n",
    "    # проверим, что оценки мощности значимо отличаются друг от друга\n",
    "    print(f'idx={data[0][0]} quantile={data[0][1]}, power={1-data[0][2]:0.3f}')\n",
    "    for i in range(1, len(data)):\n",
    "        pvalue = stats.ttest_ind(data[i][3], data[i-1][3]).pvalue\n",
    "        if pvalue < 0.05:\n",
    "            msg = f'pvalue={pvalue:0.4f}, оценка мощности значимо отличается от предыдущей'\n",
    "        else:\n",
    "            msg = f'pvalue={pvalue:0.4f}, оценка мощности не отличается значимо от предыдущей'\n",
    "        print(f'idx={data[i][0]} quantile={data[i][1]}, power={1-data[i][2]:0.3f}, {msg}')\n",
    "    print('answer:', ''.join([str(x[0]) for x in data]))\n",
    "\n",
    "process_results(quantile2errors)"
   ]
  }
 ],
 "metadata": {
  "kernelspec": {
   "display_name": "base",
   "language": "python",
   "name": "python3"
  },
  "language_info": {
   "codemirror_mode": {
    "name": "ipython",
    "version": 3
   },
   "file_extension": ".py",
   "mimetype": "text/x-python",
   "name": "python",
   "nbconvert_exporter": "python",
   "pygments_lexer": "ipython3",
   "version": "3.12.7"
  }
 },
 "nbformat": 4,
 "nbformat_minor": 2
}
