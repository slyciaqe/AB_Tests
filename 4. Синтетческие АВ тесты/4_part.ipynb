{
 "cells": [
  {
   "cell_type": "code",
   "execution_count": null,
   "metadata": {},
   "outputs": [],
   "source": [
    "\"\"\" Задачи \"\"\""
   ]
  },
  {
   "cell_type": "markdown",
   "metadata": {},
   "source": [
    "Задача Численный эксперимент"
   ]
  },
  {
   "cell_type": "markdown",
   "metadata": {},
   "source": [
    "В наш А/В-тест попадают все пользователи, совершавшие покупки до 28 марта.\n",
    "\n",
    " \n",
    "Целевая метрика — средняя выручка с клиента за время эксперимента. Целевую метрику считаем на неделе с 21 по 28 марта. Уровень значимости — 0.05. Критерий — тест Стьюдента. Размер групп — 1000. Ожидаемый эффект — средняя выручка увеличится на 10%.\n",
    "\n",
    "Нужно оценить вероятности ошибок II рода для трёх вариантов добавления эффекта:\n",
    "\n",
    "1. Добавление константы ко всем значениям;\n",
    "\n",
    "2. Умножение на константу всех значений;\n",
    "\n",
    "3. Добавление константы к 2.5% значений.\n",
    "\n",
    "Для решения используйте данные из файла 2022-04-01T12_df_sales.csv.\n"
   ]
  },
  {
   "cell_type": "code",
   "execution_count": 1,
   "metadata": {},
   "outputs": [],
   "source": [
    "import os\n",
    "from datetime import datetime\n",
    "import numpy as np\n",
    "import pandas as pd\n",
    "from scipy import stats\n",
    "from tqdm.notebook import tqdm"
   ]
  },
  {
   "cell_type": "code",
   "execution_count": 2,
   "metadata": {},
   "outputs": [],
   "source": [
    "def read_file(file_name):\n",
    "    if not os.path.exists(file_name):\n",
    "        raise FileNotFoundError(f'Файл {file_name} не найден')\n",
    "    return pd.read_csv(file_name)"
   ]
  },
  {
   "cell_type": "code",
   "execution_count": 3,
   "metadata": {},
   "outputs": [],
   "source": [
    "df = read_file('df_sales.csv')"
   ]
  },
  {
   "cell_type": "code",
   "execution_count": 4,
   "metadata": {},
   "outputs": [],
   "source": [
    "start_date = datetime(2022, 3, 21)\n",
    "end_date = datetime(2022, 3, 28)\n",
    "\n",
    "df['date'] = pd.to_datetime(df['date'])\n",
    "#Определим список всех пользователей, которые делали покупки до конца периода (до 28 марта)\n",
    "df_users = df[df['date'] < end_date][['user_id']].drop_duplicates()\n",
    "\n",
    "#Для каждого из этих пользователей считает сумму их покупок за период с 21 по 27 марта.\n",
    "df_metrics = df[(df['date']>=start_date)\n",
    "        & (df['date']<end_date)].groupby('user_id')[['price']].agg('sum').reset_index()\n",
    "#Если пользователь не совершал покупок в этот период, сумма будет равна нулю\n",
    "df_merged = pd.merge(df_users, df_metrics, on='user_id', how='left').fillna(0)"
   ]
  },
  {
   "cell_type": "code",
   "execution_count": 5,
   "metadata": {},
   "outputs": [],
   "source": [
    "alpha = 0.05\n",
    "sample_size = 1000\n",
    "effect = 0.1"
   ]
  },
  {
   "cell_type": "code",
   "execution_count": 6,
   "metadata": {},
   "outputs": [],
   "source": [
    "p_values = {'one':[], 'two': [], 'three': []}\n",
    "values = df_merged['price'].values\n",
    "mean_ = values.mean()"
   ]
  },
  {
   "cell_type": "code",
   "execution_count": 7,
   "metadata": {},
   "outputs": [
    {
     "data": {
      "application/vnd.jupyter.widget-view+json": {
       "model_id": "6b534b2f0c1d40f9b6213b5504a34adc",
       "version_major": 2,
       "version_minor": 0
      },
      "text/plain": [
       "  0%|          | 0/30000 [00:00<?, ?it/s]"
      ]
     },
     "metadata": {},
     "output_type": "display_data"
    }
   ],
   "source": [
    "for _ in tqdm(range(30000)):\n",
    "    # выбираем случайные группы\n",
    "    a, b = np.random.choice(values, (2, sample_size), False)\n",
    "    # добавляем эффект тремя способами\n",
    "    b_one = b + mean_*effect\n",
    "    b_two = b * (1 + effect)\n",
    "    indexes = np.random.choice(np.arange(sample_size), int(sample_size*0.025), False)\n",
    "    add_value = mean_*effect*sample_size/len(indexes)\n",
    "    mask = np.zeros(sample_size)\n",
    "    mask[indexes] += 1\n",
    "    b_three = b + mask * add_value\n",
    "    # считаем и сохраняем p-value\n",
    "    for b_, key in ((b_one, 'one',), (b_two, 'two',), (b_three, 'three',)):\n",
    "        p_values[key].append(stats.ttest_ind(a, b_).pvalue)"
   ]
  },
  {
   "cell_type": "code",
   "execution_count": 20,
   "metadata": {},
   "outputs": [
    {
     "name": "stdout",
     "output_type": "stream",
     "text": [
      "one: part errors = 0.8172\n",
      "two: part errors = 0.8317\n",
      "three: part errors = 0.8284\n"
     ]
    }
   ],
   "source": [
    "# считаем точечные оценки вероятностей ошибки II рода\n",
    "for key, v in p_values.items():\n",
    "    errors = (np.array(v)>alpha).astype(int)\n",
    "    part_errors = np.mean(errors)\n",
    "    print(f'{key}: part errors = {part_errors:0.4f}')"
   ]
  },
  {
   "cell_type": "code",
   "execution_count": 28,
   "metadata": {},
   "outputs": [
    {
     "name": "stdout",
     "output_type": "stream",
     "text": [
      "0.006992122753451145\n",
      "0.01959089490320967\n"
     ]
    }
   ],
   "source": [
    "# проверим, что отличия статистически значимые\n",
    "print(stats.ttest_ind(p_values['one'], p_values['three']).pvalue)\n",
    "print(stats.ttest_ind(p_values['two'], p_values['three']).pvalue)"
   ]
  }
 ],
 "metadata": {
  "kernelspec": {
   "display_name": "base",
   "language": "python",
   "name": "python3"
  },
  "language_info": {
   "codemirror_mode": {
    "name": "ipython",
    "version": 3
   },
   "file_extension": ".py",
   "mimetype": "text/x-python",
   "name": "python",
   "nbconvert_exporter": "python",
   "pygments_lexer": "ipython3",
   "version": "3.12.7"
  }
 },
 "nbformat": 4,
 "nbformat_minor": 2
}
