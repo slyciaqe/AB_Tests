{
 "cells": [
  {
   "cell_type": "code",
   "execution_count": null,
   "metadata": {},
   "outputs": [],
   "source": [
    "\"\"\" Задачи \"\"\""
   ]
  },
  {
   "cell_type": "markdown",
   "metadata": {},
   "source": [
    "Задача 1. Оценить необходимый размер групп"
   ]
  },
  {
   "cell_type": "markdown",
   "metadata": {},
   "source": [
    "Допустим, мы хотим провести эксперимент, в который попадают клиенты, совершившие покупку во время эксперимента.\n",
    "\n",
    "- Метрика — средняя выручка с пользователя за время эксперимента;\n",
    "- Продолжительность — одна неделя;\n",
    "- Уровень значимости — 0.05;\n",
    "- Допустимая вероятность ошибки II рода — 0.1;\n",
    "- Ожидаемый эффект — 20 рублей.\n",
    "\n",
    "Оцените необходимый размер групп по данным о покупках за неделю с 21 по 28 февраля."
   ]
  },
  {
   "cell_type": "code",
   "execution_count": 1,
   "metadata": {},
   "outputs": [],
   "source": [
    "import pandas as pd\n",
    "from scipy import stats\n",
    "import os"
   ]
  },
  {
   "cell_type": "code",
   "execution_count": null,
   "metadata": {},
   "outputs": [],
   "source": [
    "def read_file(file_name):\n",
    "    if not os.path.exists(file_name):\n",
    "        raise FileNotFoundError(f'Файл {file_name} не найден')\n",
    "    return pd.read_csv(file_name)"
   ]
  },
  {
   "cell_type": "code",
   "execution_count": 5,
   "metadata": {},
   "outputs": [],
   "source": [
    "df_sales = read_file('df_sales.csv')"
   ]
  }
 ],
 "metadata": {
  "kernelspec": {
   "display_name": "base",
   "language": "python",
   "name": "python3"
  },
  "language_info": {
   "codemirror_mode": {
    "name": "ipython",
    "version": 3
   },
   "file_extension": ".py",
   "mimetype": "text/x-python",
   "name": "python",
   "nbconvert_exporter": "python",
   "pygments_lexer": "ipython3",
   "version": "3.12.7"
  }
 },
 "nbformat": 4,
 "nbformat_minor": 2
}
