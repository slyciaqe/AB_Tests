{
 "cells": [
  {
   "cell_type": "code",
   "execution_count": null,
   "metadata": {},
   "outputs": [],
   "source": [
    "\"\"\" Задачи \"\"\""
   ]
  },
  {
   "cell_type": "markdown",
   "metadata": {},
   "source": [
    "Оценка разных статистик\n",
    "  \n",
    "\n",
    "Мы выяснили, что в эксперименте «Refactoring backend» в экспериментальной группе среднее время загрузки увеличилось, а 99% квантиль уменьшился. Проверьте значимость отличий других квантилей.\n",
    "\n",
    "Данные эксперимента «Refactoring backend»: df_web_logs.csv и experiment_users.csv. Эксперимент проводился с 2022-04-05 по 2022-04-12. Измерения времени обработки запросов считаем независимыми. При проверке используйте нормальный доверительный интервал."
   ]
  },
  {
   "cell_type": "code",
   "execution_count": 1,
   "metadata": {},
   "outputs": [],
   "source": [
    "import os\n",
    "from datetime import datetime\n",
    "import numpy as np\n",
    "import pandas as pd\n",
    "from scipy import stats"
   ]
  },
  {
   "cell_type": "code",
   "execution_count": 5,
   "metadata": {},
   "outputs": [],
   "source": [
    "def read_file(file_name):\n",
    "    if not os.path.exists(file_name):\n",
    "        raise FileNotFoundError(f'Файл {file_name} не найден')\n",
    "    return pd.read_csv(file_name)"
   ]
  },
  {
   "cell_type": "code",
   "execution_count": 9,
   "metadata": {},
   "outputs": [],
   "source": [
    "df_web_logs = read_file('df_web_logs.csv')\n",
    "df_users = read_file('experiment_users.csv')"
   ]
  },
  {
   "cell_type": "code",
   "execution_count": 43,
   "metadata": {},
   "outputs": [],
   "source": [
    "df_web_logs['date'] = pd.to_datetime(df_web_logs['date'])\n",
    "\n",
    "start_date = datetime(2022, 4, 5)\n",
    "end_date = datetime(2022, 4, 12)\n",
    "\n",
    "df_metrics = df_web_logs[(df_web_logs['date']>=start_date) \n",
    "                         & (df_web_logs['date']<end_date)][['user_id', 'load_time']].reset_index(drop=True)\n",
    "\n",
    "df = pd.merge(df_users, df_metrics, on='user_id', how='left')[['pilot', 'load_time']]"
   ]
  },
  {
   "cell_type": "code",
   "execution_count": 44,
   "metadata": {},
   "outputs": [
    {
     "data": {
      "text/html": [
       "<div>\n",
       "<style scoped>\n",
       "    .dataframe tbody tr th:only-of-type {\n",
       "        vertical-align: middle;\n",
       "    }\n",
       "\n",
       "    .dataframe tbody tr th {\n",
       "        vertical-align: top;\n",
       "    }\n",
       "\n",
       "    .dataframe thead th {\n",
       "        text-align: right;\n",
       "    }\n",
       "</style>\n",
       "<table border=\"1\" class=\"dataframe\">\n",
       "  <thead>\n",
       "    <tr style=\"text-align: right;\">\n",
       "      <th></th>\n",
       "      <th>pilot</th>\n",
       "      <th>load_time</th>\n",
       "    </tr>\n",
       "  </thead>\n",
       "  <tbody>\n",
       "    <tr>\n",
       "      <th>0</th>\n",
       "      <td>0</td>\n",
       "      <td>106.6</td>\n",
       "    </tr>\n",
       "    <tr>\n",
       "      <th>1</th>\n",
       "      <td>0</td>\n",
       "      <td>49.6</td>\n",
       "    </tr>\n",
       "    <tr>\n",
       "      <th>2</th>\n",
       "      <td>0</td>\n",
       "      <td>49.9</td>\n",
       "    </tr>\n",
       "    <tr>\n",
       "      <th>3</th>\n",
       "      <td>0</td>\n",
       "      <td>75.7</td>\n",
       "    </tr>\n",
       "    <tr>\n",
       "      <th>4</th>\n",
       "      <td>0</td>\n",
       "      <td>61.6</td>\n",
       "    </tr>\n",
       "  </tbody>\n",
       "</table>\n",
       "</div>"
      ],
      "text/plain": [
       "   pilot  load_time\n",
       "0      0      106.6\n",
       "1      0       49.6\n",
       "2      0       49.9\n",
       "3      0       75.7\n",
       "4      0       61.6"
      ]
     },
     "execution_count": 44,
     "metadata": {},
     "output_type": "execute_result"
    }
   ],
   "source": [
    "df.head()"
   ]
  },
  {
   "cell_type": "code",
   "execution_count": null,
   "metadata": {},
   "outputs": [],
   "source": [
    "def get_ci_bootstrap_normal(boot_metrics: np.array, pe_metric: float, alpha: float=0.05):\n",
    "    \"\"\"Строит нормальный доверительный интервал.\n",
    "\n",
    "    boot_metrics - значения метрики, полученные с помощью бутстрепа\n",
    "    pe_metric - точечная оценка метрики\n",
    "    alpha - уровень значимости\n",
    "    \n",
    "    return: (left, right) - границы доверительного интервала.\n",
    "    \"\"\"\n",
    "    c = stats.norm.ppf(1 - alpha/2)\n",
    "    se = np.std(boot_metrics)\n",
    "    left, right = pe_metric - c*se, pe_metric + c*se\n",
    "    return left, right"
   ]
  },
  {
   "cell_type": "code",
   "execution_count": 55,
   "metadata": {},
   "outputs": [],
   "source": [
    "values_a = df[df['pilot']==0]['load_time'].to_numpy()\n",
    "values_b = df[df['pilot']==1]['load_time'].to_numpy()"
   ]
  }
 ],
 "metadata": {
  "kernelspec": {
   "display_name": "base",
   "language": "python",
   "name": "python3"
  },
  "language_info": {
   "codemirror_mode": {
    "name": "ipython",
    "version": 3
   },
   "file_extension": ".py",
   "mimetype": "text/x-python",
   "name": "python",
   "nbconvert_exporter": "python",
   "pygments_lexer": "ipython3",
   "version": "3.12.7"
  }
 },
 "nbformat": 4,
 "nbformat_minor": 2
}
