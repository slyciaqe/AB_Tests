{
 "cells": [
  {
   "cell_type": "code",
   "execution_count": null,
   "metadata": {},
   "outputs": [],
   "source": [
    "\"\"\" Задачи \"\"\""
   ]
  },
  {
   "cell_type": "markdown",
   "metadata": {},
   "source": [
    "Оценка разных статистик\n",
    "  \n",
    "\n",
    "Мы выяснили, что в эксперименте «Refactoring backend» в экспериментальной группе среднее время загрузки увеличилось, а 99% квантиль уменьшился. Проверьте значимость отличий других квантилей.\n",
    "\n",
    "Данные эксперимента «Refactoring backend»: df_web_logs.csv и experiment_users.csv. Эксперимент проводился с 2022-04-05 по 2022-04-12. Измерения времени обработки запросов считаем независимыми. При проверке используйте нормальный доверительный интервал."
   ]
  },
  {
   "cell_type": "code",
   "execution_count": 1,
   "metadata": {},
   "outputs": [],
   "source": [
    "import os\n",
    "from datetime import datetime\n",
    "import numpy as np\n",
    "import pandas as pd\n",
    "from scipy import stats"
   ]
  },
  {
   "cell_type": "code",
   "execution_count": 2,
   "metadata": {},
   "outputs": [],
   "source": [
    "def read_file(file_name):\n",
    "    if not os.path.exists(file_name):\n",
    "        raise FileNotFoundError(f'Файл {file_name} не найден')\n",
    "    return pd.read_csv(file_name)"
   ]
  },
  {
   "cell_type": "code",
   "execution_count": 3,
   "metadata": {},
   "outputs": [],
   "source": [
    "df_web_logs = read_file('df_web_logs.csv')\n",
    "df_users = read_file('experiment_users.csv')"
   ]
  },
  {
   "cell_type": "code",
   "execution_count": 4,
   "metadata": {},
   "outputs": [],
   "source": [
    "df_web_logs['date'] = pd.to_datetime(df_web_logs['date'])\n",
    "\n",
    "start_date = datetime(2022, 4, 5)\n",
    "end_date = datetime(2022, 4, 12)\n",
    "\n",
    "df_metrics = df_web_logs[(df_web_logs['date']>=start_date) \n",
    "                         & (df_web_logs['date']<end_date)][['user_id', 'load_time']].reset_index(drop=True)\n",
    "\n",
    "df = pd.merge(df_users, df_metrics, on='user_id', how='left')[['pilot', 'load_time']]"
   ]
  },
  {
   "cell_type": "code",
   "execution_count": 5,
   "metadata": {},
   "outputs": [
    {
     "data": {
      "text/html": [
       "<div>\n",
       "<style scoped>\n",
       "    .dataframe tbody tr th:only-of-type {\n",
       "        vertical-align: middle;\n",
       "    }\n",
       "\n",
       "    .dataframe tbody tr th {\n",
       "        vertical-align: top;\n",
       "    }\n",
       "\n",
       "    .dataframe thead th {\n",
       "        text-align: right;\n",
       "    }\n",
       "</style>\n",
       "<table border=\"1\" class=\"dataframe\">\n",
       "  <thead>\n",
       "    <tr style=\"text-align: right;\">\n",
       "      <th></th>\n",
       "      <th>pilot</th>\n",
       "      <th>load_time</th>\n",
       "    </tr>\n",
       "  </thead>\n",
       "  <tbody>\n",
       "    <tr>\n",
       "      <th>0</th>\n",
       "      <td>0</td>\n",
       "      <td>106.6</td>\n",
       "    </tr>\n",
       "    <tr>\n",
       "      <th>1</th>\n",
       "      <td>0</td>\n",
       "      <td>49.6</td>\n",
       "    </tr>\n",
       "    <tr>\n",
       "      <th>2</th>\n",
       "      <td>0</td>\n",
       "      <td>49.9</td>\n",
       "    </tr>\n",
       "    <tr>\n",
       "      <th>3</th>\n",
       "      <td>0</td>\n",
       "      <td>75.7</td>\n",
       "    </tr>\n",
       "    <tr>\n",
       "      <th>4</th>\n",
       "      <td>0</td>\n",
       "      <td>61.6</td>\n",
       "    </tr>\n",
       "  </tbody>\n",
       "</table>\n",
       "</div>"
      ],
      "text/plain": [
       "   pilot  load_time\n",
       "0      0      106.6\n",
       "1      0       49.6\n",
       "2      0       49.9\n",
       "3      0       75.7\n",
       "4      0       61.6"
      ]
     },
     "execution_count": 5,
     "metadata": {},
     "output_type": "execute_result"
    }
   ],
   "source": [
    "df.head()"
   ]
  },
  {
   "cell_type": "code",
   "execution_count": 6,
   "metadata": {},
   "outputs": [],
   "source": [
    "def get_ci_bootstrap_normal(boot_metrics: np.array, pe_metric: float, alpha: float=0.05):\n",
    "    \"\"\"Строит нормальный доверительный интервал.\n",
    "\n",
    "    boot_metrics - значения метрики, полученные с помощью бутстрепа\n",
    "    pe_metric - точечная оценка метрики\n",
    "    alpha - уровень значимости\n",
    "    \n",
    "    return: (left, right) - границы доверительного интервала.\n",
    "    \"\"\"\n",
    "    c = stats.norm.ppf(1 - alpha/2)\n",
    "    se = np.std(boot_metrics)\n",
    "    left, right = pe_metric - c*se, pe_metric + c*se\n",
    "    return left, right"
   ]
  },
  {
   "cell_type": "code",
   "execution_count": 8,
   "metadata": {},
   "outputs": [],
   "source": [
    "B = 1000\n",
    "alpha = 0.5\n",
    "values_a = df[df['pilot']==0]['load_time'].to_numpy()\n",
    "values_b = df[df['pilot']==1]['load_time'].to_numpy()"
   ]
  },
  {
   "cell_type": "code",
   "execution_count": 13,
   "metadata": {},
   "outputs": [
    {
     "name": "stdout",
     "output_type": "stream",
     "text": [
      "q = 0.7, ci = [0.905, 1.095], is effect = True \n",
      "q = 0.74, ci = [0.499, 0.701], is effect = True \n",
      "q = 0.78, ci = [-0.106, 0.106], is effect = False \n",
      "q = 0.82, ci = [-0.806, -0.594], is effect = True \n",
      "q = 0.86, ci = [-1.320, -1.080], is effect = True \n",
      "q = 0.9, ci = [-2.224, -1.976], is effect = True \n",
      "q = 0.95, ci = [-3.605, -3.305], is effect = True \n",
      "q = 0.99, ci = [-6.641, -5.959], is effect = True \n",
      "q = 0.999, ci = [-915.881, 137.611], is effect = False \n",
      "q = 0.9999, ci = [-115.550, 178.974], is effect = False \n"
     ]
    }
   ],
   "source": [
    "quantiles = np.array([0.7, 0.74, 0.78, 0.82, 0.86, 0.9, 0.95, 0.99, 0.999, 0.9999])\n",
    "for q in quantiles:\n",
    "    pe = np.quantile(values_b, q) - np.quantile(values_a, q)\n",
    "    bootstrap_values_a = np.random.choice(values_a, (B, len(values_a)), True)\n",
    "    bootstrap_metrics_a = np.quantile(bootstrap_values_a, q, axis=1)\n",
    "    bootstrap_values_b = np.random.choice(values_b, (B, len(values_b)), True)\n",
    "    bootstrap_metrics_b = np.quantile(bootstrap_values_b, q, axis=1)\n",
    "    bootstrap_stats = bootstrap_metrics_b - bootstrap_metrics_a\n",
    "    left, right = get_ci_bootstrap_normal(bootstrap_stats, pe, alpha)\n",
    "    print(f'q = {q}, ci = [{left:0.3f}, {right:0.3f}], is effect = {not(left < 0 < right)} ')"
   ]
  }
 ],
 "metadata": {
  "kernelspec": {
   "display_name": "base",
   "language": "python",
   "name": "python3"
  },
  "language_info": {
   "codemirror_mode": {
    "name": "ipython",
    "version": 3
   },
   "file_extension": ".py",
   "mimetype": "text/x-python",
   "name": "python",
   "nbconvert_exporter": "python",
   "pygments_lexer": "ipython3",
   "version": "3.12.7"
  }
 },
 "nbformat": 4,
 "nbformat_minor": 2
}
